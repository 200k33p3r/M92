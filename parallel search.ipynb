{
 "cells": [
  {
   "cell_type": "code",
   "execution_count": 1,
   "id": "cbbeb3a4",
   "metadata": {},
   "outputs": [],
   "source": [
    "import vorbin_chi2"
   ]
  },
  {
   "cell_type": "code",
   "execution_count": 2,
   "id": "16bac074",
   "metadata": {},
   "outputs": [],
   "source": [
    "from multiprocessing import Pool\n",
    "import psutil"
   ]
  },
  {
   "cell_type": "code",
   "execution_count": null,
   "id": "f712bb92",
   "metadata": {},
   "outputs": [],
   "source": [
    "psutil.cpu_count()"
   ]
  },
  {
   "cell_type": "code",
   "execution_count": null,
   "id": "d07b5121",
   "metadata": {},
   "outputs": [],
   "source": [
    "pool = Pool(8)\n",
    "pool.starmap(vorbin_chi2.chi2, [(10000,5),(10000,7),(10000,10),(10001,5),(10001,7),(10001,10),(10002,5),(10002,7),(10002,10),(10003,5),(10003,7),(10003,10),(10004,5),(10004,7),(10004,10),(10005,5),(10005,7),(10005,10),(10005,5),(10005,7),(10005,10)])"
   ]
  },
  {
   "cell_type": "code",
   "execution_count": 3,
   "id": "32047479",
   "metadata": {},
   "outputs": [],
   "source": [
    "import time"
   ]
  },
  {
   "cell_type": "code",
   "execution_count": 3,
   "id": "e4205f19",
   "metadata": {},
   "outputs": [
    {
     "name": "stdout",
     "output_type": "stream",
     "text": [
      "done mc10000sn5\n",
      "207.5268316268921\n"
     ]
    }
   ],
   "source": [
    "start = time.time()\n",
    "vorbin_chi2.chi2(10000, 5)\n",
    "end = time.time()\n",
    "print(end - start)"
   ]
  },
  {
   "cell_type": "code",
   "execution_count": 4,
   "id": "8bb5e408",
   "metadata": {},
   "outputs": [
    {
     "name": "stdout",
     "output_type": "stream",
     "text": [
      "done mc10000sn7\n",
      "123.55447483062744\n"
     ]
    }
   ],
   "source": [
    "start = time.time()\n",
    "vorbin_chi2.chi2(10000, 7)\n",
    "end = time.time()\n",
    "print(end - start)"
   ]
  },
  {
   "cell_type": "code",
   "execution_count": 4,
   "id": "1fc60559",
   "metadata": {},
   "outputs": [
    {
     "name": "stdout",
     "output_type": "stream",
     "text": [
      "done mc10000sn10\n",
      "392.3442258834839\n"
     ]
    }
   ],
   "source": [
    "start = time.time()\n",
    "vorbin_chi2.chi2(10000, 10)\n",
    "end = time.time()\n",
    "print(end - start)"
   ]
  },
  {
   "cell_type": "code",
   "execution_count": null,
   "id": "83357c89",
   "metadata": {},
   "outputs": [],
   "source": [
    "if __name__ == '__main__':\n",
    "    pool = Pool()\n",
    "    pool.starmap(vorbin_chi2.chi2, [(10000,5),(10000,7)])"
   ]
  },
  {
   "cell_type": "code",
   "execution_count": 4,
   "id": "69d533f7",
   "metadata": {},
   "outputs": [
    {
     "ename": "NameError",
     "evalue": "name 'gc' is not defined",
     "output_type": "error",
     "traceback": [
      "\u001b[1;31m---------------------------------------------------------------------------\u001b[0m",
      "\u001b[1;31mNameError\u001b[0m                                 Traceback (most recent call last)",
      "\u001b[1;32m~\\AppData\\Local\\Temp/ipykernel_632/4136815120.py\u001b[0m in \u001b[0;36m<module>\u001b[1;34m\u001b[0m\n\u001b[0;32m      3\u001b[0m \u001b[0mpool\u001b[0m\u001b[1;33m.\u001b[0m\u001b[0mstarmap\u001b[0m\u001b[1;33m(\u001b[0m\u001b[0mvorbin_chi2\u001b[0m\u001b[1;33m.\u001b[0m\u001b[0mchi2\u001b[0m\u001b[1;33m,\u001b[0m \u001b[1;33m[\u001b[0m\u001b[1;33m(\u001b[0m\u001b[1;36m10000\u001b[0m\u001b[1;33m,\u001b[0m\u001b[1;36m5\u001b[0m\u001b[1;33m)\u001b[0m\u001b[1;33m,\u001b[0m\u001b[1;33m(\u001b[0m\u001b[1;36m10001\u001b[0m\u001b[1;33m,\u001b[0m\u001b[1;36m5\u001b[0m\u001b[1;33m)\u001b[0m\u001b[1;33m,\u001b[0m\u001b[1;33m(\u001b[0m\u001b[1;36m10002\u001b[0m\u001b[1;33m,\u001b[0m\u001b[1;36m5\u001b[0m\u001b[1;33m)\u001b[0m\u001b[1;33m,\u001b[0m\u001b[1;33m(\u001b[0m\u001b[1;36m10003\u001b[0m\u001b[1;33m,\u001b[0m\u001b[1;36m5\u001b[0m\u001b[1;33m)\u001b[0m\u001b[1;33m,\u001b[0m\u001b[1;33m(\u001b[0m\u001b[1;36m10004\u001b[0m\u001b[1;33m,\u001b[0m\u001b[1;36m5\u001b[0m\u001b[1;33m)\u001b[0m\u001b[1;33m]\u001b[0m\u001b[1;33m)\u001b[0m\u001b[1;33m\u001b[0m\u001b[1;33m\u001b[0m\u001b[0m\n\u001b[0;32m      4\u001b[0m \u001b[0mtime\u001b[0m\u001b[1;33m.\u001b[0m\u001b[0msleep\u001b[0m\u001b[1;33m(\u001b[0m\u001b[1;36m2\u001b[0m\u001b[1;33m)\u001b[0m\u001b[1;33m\u001b[0m\u001b[1;33m\u001b[0m\u001b[0m\n\u001b[1;32m----> 5\u001b[1;33m \u001b[0mgc\u001b[0m\u001b[1;33m.\u001b[0m\u001b[0mcollect\u001b[0m\u001b[1;33m(\u001b[0m\u001b[1;33m)\u001b[0m\u001b[1;33m\u001b[0m\u001b[1;33m\u001b[0m\u001b[0m\n\u001b[0m\u001b[0;32m      6\u001b[0m \u001b[0mpool\u001b[0m\u001b[1;33m.\u001b[0m\u001b[0mclose\u001b[0m\u001b[1;33m(\u001b[0m\u001b[1;33m)\u001b[0m\u001b[1;33m\u001b[0m\u001b[1;33m\u001b[0m\u001b[0m\n\u001b[0;32m      7\u001b[0m \u001b[0mpool\u001b[0m\u001b[1;33m.\u001b[0m\u001b[0mjoin\u001b[0m\u001b[1;33m(\u001b[0m\u001b[1;33m)\u001b[0m\u001b[1;33m\u001b[0m\u001b[1;33m\u001b[0m\u001b[0m\n",
      "\u001b[1;31mNameError\u001b[0m: name 'gc' is not defined"
     ]
    }
   ],
   "source": [
    "start = time.time()\n",
    "pool = Pool(8)\n",
    "pool.starmap(vorbin_chi2.chi2, [(10000,5),(10001,5),(10002,5),(10003,5),(10004,5)])\n",
    "time.sleep(2)\n",
    "pool.close()\n",
    "pool.join()\n",
    "time.sleep(1)\n",
    "pool = Pool(8)\n",
    "pool.starmap(vorbin_chi2.chi2, [(10000,7),(10001,7),(10002,7),(10003,7),(10004,7)])\n",
    "time.sleep(2)\n",
    "pool.close()\n",
    "pool.join()\n",
    "time.sleep(1)\n",
    "pool = Pool(8)\n",
    "pool.starmap(vorbin_chi2.chi2, [(10000,10),(10001,10),(10002,10),(10003,10),(10004,10)])\n",
    "end = time.time()\n",
    "print(end - start)"
   ]
  },
  {
   "cell_type": "code",
   "execution_count": null,
   "id": "904901ef",
   "metadata": {},
   "outputs": [],
   "source": [
    "pool.starmap(vorbin_chi2.chi2, [(10000,7),(10001,7),(10002,7),(10003,7),(10004,7)])\n",
    "time.sleep(2)\n",
    "pool.close()\n",
    "pool.join()\n",
    "time.sleep(1)\n",
    "pool = Pool(8)\n",
    "pool.starmap(vorbin_chi2.chi2, [(10000,10),(10001,10),(10002,10),(10003,10),(10004,10)])"
   ]
  },
  {
   "cell_type": "code",
   "execution_count": null,
   "id": "4eb68825",
   "metadata": {},
   "outputs": [],
   "source": [
    "pool = Pool(5)\n",
    "time.sleep(2)\n",
    "gc.collect()\n",
    "pool.close()\n",
    "pool.join()\n",
    "time.sleep(1)"
   ]
  },
  {
   "cell_type": "code",
   "execution_count": 2,
   "id": "cf4ca52a",
   "metadata": {},
   "outputs": [
    {
     "name": "stdout",
     "output_type": "stream",
     "text": [
      "done mc10000sn10\n"
     ]
    },
    {
     "data": {
      "text/plain": [
       "<vorbin_chi2.chi2 at 0x21dffba9d88>"
      ]
     },
     "execution_count": 2,
     "metadata": {},
     "output_type": "execute_result"
    }
   ],
   "source": [
    "vorbin_chi2.chi2(10000, 10)"
   ]
  },
  {
   "cell_type": "code",
   "execution_count": null,
   "id": "844daa37",
   "metadata": {},
   "outputs": [],
   "source": []
  }
 ],
 "metadata": {
  "kernelspec": {
   "display_name": "Python 3 (ipykernel)",
   "language": "python",
   "name": "python3"
  },
  "language_info": {
   "codemirror_mode": {
    "name": "ipython",
    "version": 3
   },
   "file_extension": ".py",
   "mimetype": "text/x-python",
   "name": "python",
   "nbconvert_exporter": "python",
   "pygments_lexer": "ipython3",
   "version": "3.7.11"
  }
 },
 "nbformat": 4,
 "nbformat_minor": 5
}
