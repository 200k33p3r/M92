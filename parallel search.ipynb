{
 "cells": [
  {
   "cell_type": "code",
   "execution_count": 1,
   "id": "cbbeb3a4",
   "metadata": {},
   "outputs": [],
   "source": [
    "import vorbin_chi2"
   ]
  },
  {
   "cell_type": "code",
   "execution_count": 2,
   "id": "16bac074",
   "metadata": {},
   "outputs": [],
   "source": [
    "from multiprocessing import Pool\n",
    "import psutil"
   ]
  },
  {
   "cell_type": "code",
   "execution_count": 3,
   "id": "f712bb92",
   "metadata": {},
   "outputs": [
    {
     "data": {
      "text/plain": [
       "32"
      ]
     },
     "execution_count": 3,
     "metadata": {},
     "output_type": "execute_result"
    }
   ],
   "source": [
    "psutil.cpu_count()"
   ]
  },
  {
   "cell_type": "code",
   "execution_count": null,
   "id": "d07b5121",
   "metadata": {},
   "outputs": [],
   "source": [
    "pool = Pool(8)\n",
    "pool.starmap(vorbin_chi2.chi2, [(10000,5),(10000,7),(10000,10),(10001,5),(10001,7),(10001,10),(10002,5),(10002,7),(10002,10),(10003,5),(10003,7),(10003,10),(10004,5),(10004,7),(10004,10),(10005,5),(10005,7),(10005,10),(10005,5),(10005,7),(10005,10)])"
   ]
  },
  {
   "cell_type": "code",
   "execution_count": 3,
   "id": "32047479",
   "metadata": {},
   "outputs": [],
   "source": [
    "import time"
   ]
  },
  {
   "cell_type": "code",
   "execution_count": 6,
   "id": "e4205f19",
   "metadata": {},
   "outputs": [
    {
     "name": "stdout",
     "output_type": "stream",
     "text": [
      "done mc10000sn5\n",
      "100.61897730827332\n"
     ]
    }
   ],
   "source": [
    "start = time.time()\n",
    "vorbin_chi2.chi2(10000, 5)\n",
    "end = time.time()\n",
    "print(end - start)"
   ]
  },
  {
   "cell_type": "code",
   "execution_count": 4,
   "id": "8bb5e408",
   "metadata": {},
   "outputs": [
    {
     "name": "stdout",
     "output_type": "stream",
     "text": [
      "done mc10000sn7\n",
      "123.55447483062744\n"
     ]
    }
   ],
   "source": [
    "start = time.time()\n",
    "vorbin_chi2.chi2(10000, 7)\n",
    "end = time.time()\n",
    "print(end - start)"
   ]
  },
  {
   "cell_type": "code",
   "execution_count": 4,
   "id": "1fc60559",
   "metadata": {},
   "outputs": [
    {
     "name": "stdout",
     "output_type": "stream",
     "text": [
      "done mc10000sn10\n",
      "392.3442258834839\n"
     ]
    }
   ],
   "source": [
    "start = time.time()\n",
    "vorbin_chi2.chi2(10000, 10)\n",
    "end = time.time()\n",
    "print(end - start)"
   ]
  },
  {
   "cell_type": "code",
   "execution_count": null,
   "id": "83357c89",
   "metadata": {},
   "outputs": [],
   "source": [
    "if __name__ == '__main__':\n",
    "    pool = Pool()\n",
    "    pool.starmap(vorbin_chi2.chi2, [(10000,5),(10000,7)])"
   ]
  },
  {
   "cell_type": "code",
   "execution_count": 4,
   "id": "69d533f7",
   "metadata": {},
   "outputs": [
    {
     "ename": "NameError",
     "evalue": "name 'gc' is not defined",
     "output_type": "error",
     "traceback": [
      "\u001b[1;31m---------------------------------------------------------------------------\u001b[0m",
      "\u001b[1;31mNameError\u001b[0m                                 Traceback (most recent call last)",
      "\u001b[1;32m~\\AppData\\Local\\Temp/ipykernel_632/4136815120.py\u001b[0m in \u001b[0;36m<module>\u001b[1;34m\u001b[0m\n\u001b[0;32m      3\u001b[0m \u001b[0mpool\u001b[0m\u001b[1;33m.\u001b[0m\u001b[0mstarmap\u001b[0m\u001b[1;33m(\u001b[0m\u001b[0mvorbin_chi2\u001b[0m\u001b[1;33m.\u001b[0m\u001b[0mchi2\u001b[0m\u001b[1;33m,\u001b[0m \u001b[1;33m[\u001b[0m\u001b[1;33m(\u001b[0m\u001b[1;36m10000\u001b[0m\u001b[1;33m,\u001b[0m\u001b[1;36m5\u001b[0m\u001b[1;33m)\u001b[0m\u001b[1;33m,\u001b[0m\u001b[1;33m(\u001b[0m\u001b[1;36m10001\u001b[0m\u001b[1;33m,\u001b[0m\u001b[1;36m5\u001b[0m\u001b[1;33m)\u001b[0m\u001b[1;33m,\u001b[0m\u001b[1;33m(\u001b[0m\u001b[1;36m10002\u001b[0m\u001b[1;33m,\u001b[0m\u001b[1;36m5\u001b[0m\u001b[1;33m)\u001b[0m\u001b[1;33m,\u001b[0m\u001b[1;33m(\u001b[0m\u001b[1;36m10003\u001b[0m\u001b[1;33m,\u001b[0m\u001b[1;36m5\u001b[0m\u001b[1;33m)\u001b[0m\u001b[1;33m,\u001b[0m\u001b[1;33m(\u001b[0m\u001b[1;36m10004\u001b[0m\u001b[1;33m,\u001b[0m\u001b[1;36m5\u001b[0m\u001b[1;33m)\u001b[0m\u001b[1;33m]\u001b[0m\u001b[1;33m)\u001b[0m\u001b[1;33m\u001b[0m\u001b[1;33m\u001b[0m\u001b[0m\n\u001b[0;32m      4\u001b[0m \u001b[0mtime\u001b[0m\u001b[1;33m.\u001b[0m\u001b[0msleep\u001b[0m\u001b[1;33m(\u001b[0m\u001b[1;36m2\u001b[0m\u001b[1;33m)\u001b[0m\u001b[1;33m\u001b[0m\u001b[1;33m\u001b[0m\u001b[0m\n\u001b[1;32m----> 5\u001b[1;33m \u001b[0mgc\u001b[0m\u001b[1;33m.\u001b[0m\u001b[0mcollect\u001b[0m\u001b[1;33m(\u001b[0m\u001b[1;33m)\u001b[0m\u001b[1;33m\u001b[0m\u001b[1;33m\u001b[0m\u001b[0m\n\u001b[0m\u001b[0;32m      6\u001b[0m \u001b[0mpool\u001b[0m\u001b[1;33m.\u001b[0m\u001b[0mclose\u001b[0m\u001b[1;33m(\u001b[0m\u001b[1;33m)\u001b[0m\u001b[1;33m\u001b[0m\u001b[1;33m\u001b[0m\u001b[0m\n\u001b[0;32m      7\u001b[0m \u001b[0mpool\u001b[0m\u001b[1;33m.\u001b[0m\u001b[0mjoin\u001b[0m\u001b[1;33m(\u001b[0m\u001b[1;33m)\u001b[0m\u001b[1;33m\u001b[0m\u001b[1;33m\u001b[0m\u001b[0m\n",
      "\u001b[1;31mNameError\u001b[0m: name 'gc' is not defined"
     ]
    }
   ],
   "source": [
    "start = time.time()\n",
    "pool = Pool(8)\n",
    "pool.starmap(vorbin_chi2.chi2, [(10000,5),(10001,5),(10002,5),(10003,5),(10004,5)])\n",
    "time.sleep(2)\n",
    "pool.close()\n",
    "pool.join()\n",
    "time.sleep(1)\n",
    "pool = Pool(8)\n",
    "pool.starmap(vorbin_chi2.chi2, [(10000,7),(10001,7),(10002,7),(10003,7),(10004,7)])\n",
    "time.sleep(2)\n",
    "pool.close()\n",
    "pool.join()\n",
    "time.sleep(1)\n",
    "pool = Pool(8)\n",
    "pool.starmap(vorbin_chi2.chi2, [(10000,10),(10001,10),(10002,10),(10003,10),(10004,10)])\n",
    "end = time.time()\n",
    "print(end - start)"
   ]
  },
  {
   "cell_type": "code",
   "execution_count": null,
   "id": "904901ef",
   "metadata": {},
   "outputs": [],
   "source": [
    "pool.starmap(vorbin_chi2.chi2, [(10000,7),(10001,7),(10002,7),(10003,7),(10004,7)])\n",
    "time.sleep(2)\n",
    "pool.close()\n",
    "pool.join()\n",
    "time.sleep(1)\n",
    "pool = Pool(8)\n",
    "pool.starmap(vorbin_chi2.chi2, [(10000,10),(10001,10),(10002,10),(10003,10),(10004,10)])"
   ]
  },
  {
   "cell_type": "code",
   "execution_count": null,
   "id": "4eb68825",
   "metadata": {},
   "outputs": [],
   "source": [
    "pool = Pool(5)\n",
    "time.sleep(2)\n",
    "gc.collect()\n",
    "pool.close()\n",
    "pool.join()\n",
    "time.sleep(1)"
   ]
  },
  {
   "cell_type": "code",
   "execution_count": 2,
   "id": "cf4ca52a",
   "metadata": {},
   "outputs": [
    {
     "name": "stdout",
     "output_type": "stream",
     "text": [
      "done mc10000sn10\n"
     ]
    },
    {
     "data": {
      "text/plain": [
       "<vorbin_chi2.chi2 at 0x21dffba9d88>"
      ]
     },
     "execution_count": 2,
     "metadata": {},
     "output_type": "execute_result"
    }
   ],
   "source": [
    "vorbin_chi2.chi2(10000, 10)"
   ]
  },
  {
   "cell_type": "code",
   "execution_count": 5,
   "id": "844daa37",
   "metadata": {},
   "outputs": [],
   "source": [
    "param_list = []\n",
    "for i in range(100):\n",
    "    param_list.append((10000+i,5))\n",
    "for i in range(100):\n",
    "    param_list.append((10000+i,7))\n",
    "for i in range(100):\n",
    "    param_list.append((10000+i,10))"
   ]
  },
  {
   "cell_type": "code",
   "execution_count": 6,
   "id": "e2317355",
   "metadata": {},
   "outputs": [
    {
     "name": "stdout",
     "output_type": "stream",
     "text": [
      "done mc10009sn5\n",
      "done mc10015sn5\n",
      "done mc10013sn5\n",
      "done mc10029sn5\n",
      "done mc10019sn5\n",
      "done mc10002sn5\n",
      "done mc10005sn5\n",
      "done mc10001sn5\n",
      "done mc10028sn5\n",
      "done mc10008sn5\n",
      "done mc10016sn5\n",
      "done mc10003sn5\n",
      "done mc10027sn5\n",
      "done mc10012sn5\n",
      "done mc10000sn5\n",
      "done mc10010sn5\n",
      "done mc10026sn5\n",
      "done mc10004sn5\n",
      "done mc10014sn5\n",
      "done mc10006sn5\n",
      "done mc10017sn5\n",
      "done mc10025sn5\n",
      "done mc10011sn5\n",
      "done mc10024sn5\n",
      "done mc10021sn5\n",
      "done mc10020sn5\n",
      "done mc10018sn5\n",
      "done mc10007sn5\n",
      "done mc10023sn5\n",
      "done mc10022sn5\n",
      "done mc10044sn5\n",
      "done mc10031sn5\n",
      "done mc10035sn5\n",
      "done mc10040sn5\n",
      "done mc10037sn5\n",
      "done mc10033sn5\n",
      "done mc10050sn5\n",
      "done mc10046sn5\n",
      "done mc10047sn5\n",
      "done mc10048sn5\n",
      "done mc10054sn5\n",
      "done mc10058sn5\n",
      "done mc10041sn5\n",
      "done mc10053sn5\n",
      "done mc10036sn5\n",
      "done mc10038sn5\n",
      "done mc10055sn5\n",
      "done mc10056sn5\n",
      "done mc10057sn5\n",
      "done mc10052sn5\n",
      "done mc10034sn5\n",
      "done mc10049sn5\n",
      "done mc10059sn5\n",
      "done mc10045sn5\n",
      "done mc10043sn5\n",
      "done mc10030sn5\n",
      "done mc10051sn5\n",
      "done mc10032sn5\n",
      "done mc10039sn5\n",
      "done mc10042sn5\n",
      "done mc10065sn5\n",
      "done mc10068sn5\n",
      "done mc10075sn5\n",
      "done mc10073sn5\n",
      "done mc10063sn5\n",
      "done mc10061sn5\n",
      "done mc10071sn5\n",
      "done mc10086sn5\n",
      "done mc10062sn5\n",
      "done mc10089sn5\n",
      "done mc10079sn5\n",
      "done mc10074sn5\n",
      "done mc10078sn5\n",
      "done mc10081sn5\n",
      "done mc10070sn5\n",
      "done mc10080sn5\n",
      "done mc10076sn5\n",
      "done mc10060sn5\n",
      "done mc10084sn5\n",
      "done mc10067sn5\n",
      "done mc10083sn5\n",
      "done mc10077sn5\n",
      "done mc10064sn5\n",
      "done mc10085sn5\n",
      "done mc10072sn5\n",
      "done mc10088sn5\n",
      "done mc10066sn5\n",
      "done mc10087sn5\n",
      "done mc10069sn5\n",
      "done mc10082sn5\n",
      "done mc10010sn7\n",
      "done mc10017sn7\n",
      "done mc10011sn7\n",
      "done mc10019sn7\n",
      "done mc10005sn7\n",
      "done mc10013sn7\n",
      "done mc10018sn7\n",
      "done mc10000sn7\n",
      "done mc10006sn7\n",
      "done mc10004sn7\n",
      "done mc10003sn7\n",
      "done mc10007sn7\n",
      "done mc10014sn7\n",
      "done mc10012sn7\n",
      "done mc10002sn7\n",
      "done mc10009sn7\n",
      "done mc10016sn7\n",
      "done mc10001sn7\n",
      "done mc10008sn7\n",
      "done mc10015sn7\n",
      "done mc10099sn5\n",
      "done mc10096sn5\n",
      "done mc10090sn5\n",
      "done mc10097sn5\n",
      "done mc10094sn5\n",
      "done mc10092sn5\n",
      "done mc10098sn5\n",
      "done mc10093sn5\n",
      "done mc10091sn5\n",
      "done mc10095sn5\n",
      "done mc10035sn7\n",
      "done mc10044sn7\n",
      "done mc10034sn7\n",
      "done mc10047sn7\n",
      "done mc10039sn7\n",
      "done mc10046sn7\n",
      "done mc10028sn7\n",
      "done mc10023sn7\n",
      "done mc10032sn7\n",
      "done mc10038sn7\n",
      "done mc10029sn7\n",
      "done mc10031sn7\n",
      "done mc10042sn7\n",
      "done mc10045sn7\n",
      "done mc10048sn7\n",
      "done mc10041sn7\n",
      "done mc10036sn7\n",
      "done mc10026sn7\n",
      "done mc10020sn7\n",
      "done mc10025sn7\n",
      "done mc10027sn7\n",
      "done mc10033sn7\n",
      "done mc10030sn7\n",
      "done mc10021sn7\n",
      "done mc10043sn7\n",
      "done mc10024sn7\n",
      "done mc10037sn7\n",
      "done mc10040sn7\n",
      "done mc10049sn7\n",
      "done mc10022sn7\n",
      "done mc10055sn7\n",
      "done mc10072sn7\n",
      "done mc10052sn7\n",
      "done mc10071sn7\n",
      "done mc10079sn7\n",
      "done mc10070sn7\n",
      "done mc10065sn7\n",
      "done mc10057sn7\n",
      "done mc10074sn7\n",
      "done mc10068sn7\n",
      "done mc10077sn7\n",
      "done mc10054sn7\n",
      "done mc10061sn7\n",
      "done mc10063sn7\n",
      "done mc10075sn7\n",
      "done mc10064sn7\n",
      "done mc10073sn7\n",
      "done mc10051sn7\n",
      "done mc10059sn7\n",
      "done mc10060sn7\n",
      "done mc10050sn7\n",
      "done mc10058sn7\n",
      "done mc10069sn7\n",
      "done mc10056sn7\n",
      "done mc10053sn7\n",
      "done mc10076sn7\n",
      "done mc10066sn7\n",
      "done mc10067sn7\n",
      "done mc10078sn7\n",
      "done mc10062sn7\n",
      "done mc10000sn10\n",
      "done mc10009sn10\n",
      "done mc10001sn10\n",
      "done mc10007sn10\n",
      "done mc10002sn10\n",
      "done mc10005sn10\n",
      "done mc10004sn10\n",
      "done mc10008sn10\n",
      "done mc10006sn10\n",
      "done mc10003sn10\n",
      "done mc10090sn7\n",
      "done mc10091sn7\n",
      "done mc10081sn7\n",
      "done mc10085sn7\n",
      "done mc10096sn7\n",
      "done mc10082sn7\n",
      "done mc10084sn7\n",
      "done mc10087sn7\n",
      "done mc10080sn7\n",
      "done mc10094sn7\n",
      "done mc10089sn7\n",
      "done mc10086sn7\n",
      "done mc10099sn7\n",
      "done mc10083sn7\n",
      "done mc10097sn7\n",
      "done mc10098sn7\n",
      "done mc10095sn7\n",
      "done mc10093sn7\n",
      "done mc10088sn7\n",
      "done mc10092sn7\n",
      "done mc10033sn10\n",
      "done mc10035sn10\n",
      "done mc10020sn10\n",
      "done mc10032sn10\n",
      "done mc10025sn10\n",
      "done mc10028sn10\n",
      "done mc10021sn10\n",
      "done mc10029sn10\n",
      "done mc10036sn10\n",
      "done mc10039sn10\n",
      "done mc10010sn10\n",
      "done mc10031sn10\n",
      "done mc10013sn10\n",
      "done mc10027sn10\n",
      "done mc10034sn10\n",
      "done mc10037sn10\n",
      "done mc10030sn10\n",
      "done mc10023sn10\n",
      "done mc10019sn10\n",
      "done mc10015sn10\n",
      "done mc10038sn10\n",
      "done mc10026sn10\n",
      "done mc10018sn10\n",
      "done mc10012sn10\n",
      "done mc10017sn10\n",
      "done mc10014sn10\n",
      "done mc10016sn10\n",
      "done mc10024sn10\n",
      "done mc10022sn10\n",
      "done mc10011sn10\n",
      "done mc10065sn10\n",
      "done mc10052sn10\n",
      "done mc10050sn10\n",
      "done mc10053sn10\n",
      "done mc10068sn10\n",
      "done mc10063sn10\n",
      "done mc10046sn10\n",
      "done mc10064sn10\n",
      "done mc10054sn10\n",
      "done mc10067sn10\n",
      "done mc10044sn10\n",
      "done mc10049sn10\n",
      "done mc10061sn10\n",
      "done mc10045sn10\n",
      "done mc10066sn10\n",
      "done mc10055sn10\n",
      "done mc10043sn10\n",
      "done mc10047sn10\n",
      "done mc10042sn10\n",
      "done mc10069sn10\n",
      "done mc10056sn10\n",
      "done mc10059sn10\n",
      "done mc10060sn10\n",
      "done mc10058sn10\n",
      "done mc10057sn10\n",
      "done mc10040sn10\n",
      "done mc10062sn10\n",
      "done mc10041sn10\n",
      "done mc10048sn10\n",
      "done mc10051sn10\n",
      "done mc10077sn10\n",
      "done mc10091sn10\n",
      "done mc10081sn10\n",
      "done mc10093sn10\n",
      "done mc10084sn10\n",
      "done mc10080sn10\n",
      "done mc10075sn10\n",
      "done mc10076sn10\n",
      "done mc10072sn10\n",
      "done mc10095sn10\n",
      "done mc10089sn10\n",
      "done mc10083sn10\n",
      "done mc10078sn10\n",
      "done mc10073sn10\n",
      "done mc10086sn10\n",
      "done mc10096sn10\n",
      "done mc10099sn10\n",
      "done mc10090sn10\n",
      "done mc10079sn10\n",
      "done mc10098sn10\n",
      "done mc10085sn10\n",
      "done mc10071sn10\n",
      "done mc10087sn10\n",
      "done mc10094sn10\n",
      "done mc10082sn10\n",
      "done mc10070sn10\n",
      "done mc10074sn10\n",
      "done mc10092sn10\n",
      "done mc10097sn10\n",
      "done mc10088sn10\n",
      "407131.4204380512\n"
     ]
    }
   ],
   "source": [
    "param_test = param_list\n",
    "start = time.time()\n",
    "i = len(param_test)\n",
    "while i > 30:\n",
    "    pool = Pool(30)\n",
    "    pool.starmap(vorbin_chi2.chi2, param_test[:30])\n",
    "    time.sleep(2)\n",
    "    pool.close()\n",
    "    i -= 30\n",
    "    param_test = param_test[30:]\n",
    "    pool.join()\n",
    "    time.sleep(1)\n",
    "if i > 0:\n",
    "    pool = Pool(30)\n",
    "    pool.starmap(vorbin_chi2.chi2, param_test)\n",
    "end = time.time()\n",
    "print(end - start)"
   ]
  },
  {
   "cell_type": "code",
   "execution_count": 10,
   "id": "dcd76c41",
   "metadata": {},
   "outputs": [
    {
     "data": {
      "text/plain": [
       "[(10000, 5),\n",
       " (10001, 5),\n",
       " (10002, 5),\n",
       " (10003, 5),\n",
       " (10004, 5),\n",
       " (10005, 5),\n",
       " (10006, 5),\n",
       " (10007, 5),\n",
       " (10008, 5),\n",
       " (10009, 5),\n",
       " (10010, 5),\n",
       " (10011, 5),\n",
       " (10012, 5),\n",
       " (10013, 5),\n",
       " (10014, 5),\n",
       " (10015, 5),\n",
       " (10016, 5),\n",
       " (10017, 5),\n",
       " (10018, 5),\n",
       " (10019, 5),\n",
       " (10020, 5),\n",
       " (10021, 5),\n",
       " (10022, 5),\n",
       " (10023, 5),\n",
       " (10024, 5),\n",
       " (10025, 5),\n",
       " (10026, 5),\n",
       " (10027, 5),\n",
       " (10028, 5),\n",
       " (10029, 5)]"
      ]
     },
     "execution_count": 10,
     "metadata": {},
     "output_type": "execute_result"
    }
   ],
   "source": [
    "param_list[:30]"
   ]
  },
  {
   "cell_type": "code",
   "execution_count": null,
   "id": "2b71cfd5",
   "metadata": {},
   "outputs": [],
   "source": []
  }
 ],
 "metadata": {
  "kernelspec": {
   "display_name": "Python 3",
   "language": "python",
   "name": "python3"
  },
  "language_info": {
   "codemirror_mode": {
    "name": "ipython",
    "version": 3
   },
   "file_extension": ".py",
   "mimetype": "text/x-python",
   "name": "python",
   "nbconvert_exporter": "python",
   "pygments_lexer": "ipython3",
   "version": "3.8.8"
  }
 },
 "nbformat": 4,
 "nbformat_minor": 5
}
